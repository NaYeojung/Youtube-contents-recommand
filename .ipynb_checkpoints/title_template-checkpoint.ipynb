{
 "cells": [
  {
   "cell_type": "code",
   "execution_count": 43,
   "id": "14029b92-2caa-4156-b918-3a84583b4dda",
   "metadata": {
    "scrolled": true
   },
   "outputs": [
    {
     "data": {
      "text/html": [
       "<div>\n",
       "<style scoped>\n",
       "    .dataframe tbody tr th:only-of-type {\n",
       "        vertical-align: middle;\n",
       "    }\n",
       "\n",
       "    .dataframe tbody tr th {\n",
       "        vertical-align: top;\n",
       "    }\n",
       "\n",
       "    .dataframe thead th {\n",
       "        text-align: right;\n",
       "    }\n",
       "</style>\n",
       "<table border=\"1\" class=\"dataframe\">\n",
       "  <thead>\n",
       "    <tr style=\"text-align: right;\">\n",
       "      <th></th>\n",
       "      <th>title</th>\n",
       "      <th>video_id</th>\n",
       "      <th>video_url</th>\n",
       "      <th>published_date</th>\n",
       "      <th>thumbnail_url</th>\n",
       "      <th>view_count</th>\n",
       "      <th>like_count</th>\n",
       "      <th>comment_count</th>\n",
       "      <th>duration_hms</th>\n",
       "      <th>duration_sec</th>\n",
       "      <th>...</th>\n",
       "      <th>subscriber_count</th>\n",
       "      <th>categories</th>\n",
       "      <th>tags</th>\n",
       "      <th>uploader_url</th>\n",
       "      <th>description</th>\n",
       "      <th>error</th>\n",
       "      <th>tokens</th>\n",
       "      <th>tfidf_keywords</th>\n",
       "      <th>keybert_keywords</th>\n",
       "      <th>title_template</th>\n",
       "    </tr>\n",
       "  </thead>\n",
       "  <tbody>\n",
       "    <tr>\n",
       "      <th>0</th>\n",
       "      <td>[KIA 타이거즈] 선수별 응원가 제안서.pdf</td>\n",
       "      <td>VzzZ70tWMJ8</td>\n",
       "      <td>https://www.youtube.com/watch?v=VzzZ70tWMJ8</td>\n",
       "      <td>2025-09-18</td>\n",
       "      <td>https://i.ytimg.com/vi/VzzZ70tWMJ8/maxresdefau...</td>\n",
       "      <td>174862.0</td>\n",
       "      <td>4022.0</td>\n",
       "      <td>368.0</td>\n",
       "      <td>24:24</td>\n",
       "      <td>1464.0</td>\n",
       "      <td>...</td>\n",
       "      <td>1690000.0</td>\n",
       "      <td>Comedy</td>\n",
       "      <td>['코미디', '개그', '라이브코미디', 'comedy', 'korea comed...</td>\n",
       "      <td>https://www.youtube.com/@KoreanCryingGuy</td>\n",
       "      <td>필라이트 클리어가 12캔에 만원...⁉️\\n야구 1회마다 한 캔씩 마셔도 9회까지 ...</td>\n",
       "      <td>NaN</td>\n",
       "      <td>['kia', '타이거즈', '선수별', '응원가', '제안서', 'pdf']</td>\n",
       "      <td>[('타이거즈', 0.4455139079661611), ('선수별', 0.41160...</td>\n",
       "      <td>[('제안서', 0.2561), ('pdf', 0.3489), ('kia', 0.3...</td>\n",
       "      <td>[{ENG} {NOUN}] {NOUN} 응원가 {NOUN}.{ENG}</td>\n",
       "    </tr>\n",
       "    <tr>\n",
       "      <th>1</th>\n",
       "      <td>[무공해] 험한 것이 나와도 김고은이랑 무조건 공감합니다</td>\n",
       "      <td>_ttuPeDExTo</td>\n",
       "      <td>https://www.youtube.com/watch?v=_ttuPeDExTo</td>\n",
       "      <td>2025-09-12</td>\n",
       "      <td>https://i.ytimg.com/vi/_ttuPeDExTo/maxresdefau...</td>\n",
       "      <td>758030.0</td>\n",
       "      <td>10983.0</td>\n",
       "      <td>535.0</td>\n",
       "      <td>36:18</td>\n",
       "      <td>2178.0</td>\n",
       "      <td>...</td>\n",
       "      <td>1690000.0</td>\n",
       "      <td>Comedy</td>\n",
       "      <td>['코미디', '개그', '라이브코미디', 'comedy', 'korea comed...</td>\n",
       "      <td>https://www.youtube.com/@KoreanCryingGuy</td>\n",
       "      <td>넷플릭스 시리즈 [은중과 상연] 드디어 👉오늘 공개 👈\\n\\n친구란 게... 참,\\...</td>\n",
       "      <td>NaN</td>\n",
       "      <td>['무공해', '험한', '것이', '나와도', '김고은이랑', '무조건', '공감...</td>\n",
       "      <td>[('무조건', 0.6112563566187994), ('공감합니다', 0.5641...</td>\n",
       "      <td>[('것이', 0.2044), ('나와도', 0.2216), ('험한 것이', 0....</td>\n",
       "      <td>[무공해] 험한 것이 나와도 {NOUN}랑 무조건 공감합니다</td>\n",
       "    </tr>\n",
       "    <tr>\n",
       "      <th>2</th>\n",
       "      <td>[무공해] 폭주하는 공감 요정.. 아이브 레이랑 무조건 공감합니다</td>\n",
       "      <td>N5Zk-xH1e0k</td>\n",
       "      <td>https://www.youtube.com/watch?v=N5Zk-xH1e0k</td>\n",
       "      <td>2025-09-05</td>\n",
       "      <td>https://i.ytimg.com/vi/N5Zk-xH1e0k/maxresdefau...</td>\n",
       "      <td>677690.0</td>\n",
       "      <td>9259.0</td>\n",
       "      <td>569.0</td>\n",
       "      <td>35:35</td>\n",
       "      <td>2135.0</td>\n",
       "      <td>...</td>\n",
       "      <td>1690000.0</td>\n",
       "      <td>Comedy</td>\n",
       "      <td>['코미디', '개그', '라이브코미디', 'comedy', 'korea comed...</td>\n",
       "      <td>https://www.youtube.com/@KoreanCryingGuy</td>\n",
       "      <td>*사연자들은 모두 일반인입니다. 무분별한 비난은 삭제될 수 있습니다*\\n\\n공감이 ...</td>\n",
       "      <td>NaN</td>\n",
       "      <td>['무공해', '폭주하는', '공감', '요정', '아이브', '레이랑', '무조건...</td>\n",
       "      <td>[('폭주하는', 0.5098184696059574), ('아이브', 0.45716...</td>\n",
       "      <td>[('폭주하는', 0.352), ('공감합니다', 0.3571), ('레이랑', 0...</td>\n",
       "      <td>[무공해] {NOUN}는 공감 요정.. {NOUN} 레이랑 무조건 공감합니다</td>\n",
       "    </tr>\n",
       "    <tr>\n",
       "      <th>3</th>\n",
       "      <td>[ENG SUB] 직역된 가사보고 노래 맞히기 (w.태래 규빈 리키)</td>\n",
       "      <td>-6vOqZs6CFA</td>\n",
       "      <td>https://www.youtube.com/watch?v=-6vOqZs6CFA</td>\n",
       "      <td>2025-09-02</td>\n",
       "      <td>https://i.ytimg.com/vi/-6vOqZs6CFA/maxresdefau...</td>\n",
       "      <td>192365.0</td>\n",
       "      <td>8331.0</td>\n",
       "      <td>516.0</td>\n",
       "      <td>21:34</td>\n",
       "      <td>1294.0</td>\n",
       "      <td>...</td>\n",
       "      <td>1690000.0</td>\n",
       "      <td>Comedy</td>\n",
       "      <td>['코미디', '개그', '라이브코미디', 'comedy', 'korea comed...</td>\n",
       "      <td>https://www.youtube.com/@KoreanCryingGuy</td>\n",
       "      <td>📌https://bit.ly/3ULB2X7\\n👉 스픽XT1 코스를 무료 체험으로 딱...</td>\n",
       "      <td>NaN</td>\n",
       "      <td>['sub', '직역된', '가사보고', '노래', '맞히기', '태래', '규빈'...</td>\n",
       "      <td>[('맞히기', 0.5838354674286717), ('규빈', 0.5838354...</td>\n",
       "      <td>[('규빈', 0.3242), ('리키', 0.3534), ('태래', 0.3729...</td>\n",
       "      <td>[{ENG} {ENG}] {NOUN} 고 노래 맞히기 (w.태래 규빈 리키)</td>\n",
       "    </tr>\n",
       "    <tr>\n",
       "      <th>4</th>\n",
       "      <td>근데 운전은 로이킴이</td>\n",
       "      <td>QxSIqNOMCm4</td>\n",
       "      <td>https://www.youtube.com/watch?v=QxSIqNOMCm4</td>\n",
       "      <td>2025-08-29</td>\n",
       "      <td>https://i.ytimg.com/vi_webp/QxSIqNOMCm4/maxres...</td>\n",
       "      <td>167341.0</td>\n",
       "      <td>1979.0</td>\n",
       "      <td>201.0</td>\n",
       "      <td>24:17</td>\n",
       "      <td>1457.0</td>\n",
       "      <td>...</td>\n",
       "      <td>1690000.0</td>\n",
       "      <td>Comedy</td>\n",
       "      <td>['코미디', '개그', '라이브코미디', 'comedy', 'korea comed...</td>\n",
       "      <td>https://www.youtube.com/@KoreanCryingGuy</td>\n",
       "      <td>쏘카는 보이는 가격 그대로😶\\n이제 [총 결제 요금] 한 번만 내고 타세요\\n\\n5...</td>\n",
       "      <td>NaN</td>\n",
       "      <td>['근데', '운전은', '로이킴이']</td>\n",
       "      <td>[('근데', 1.0)]</td>\n",
       "      <td>[('근데', 0.3942), ('운전은', 0.5413), ('근데 운전은', 0...</td>\n",
       "      <td>근데 운전은 {NOUN}이</td>\n",
       "    </tr>\n",
       "    <tr>\n",
       "      <th>...</th>\n",
       "      <td>...</td>\n",
       "      <td>...</td>\n",
       "      <td>...</td>\n",
       "      <td>...</td>\n",
       "      <td>...</td>\n",
       "      <td>...</td>\n",
       "      <td>...</td>\n",
       "      <td>...</td>\n",
       "      <td>...</td>\n",
       "      <td>...</td>\n",
       "      <td>...</td>\n",
       "      <td>...</td>\n",
       "      <td>...</td>\n",
       "      <td>...</td>\n",
       "      <td>...</td>\n",
       "      <td>...</td>\n",
       "      <td>...</td>\n",
       "      <td>...</td>\n",
       "      <td>...</td>\n",
       "      <td>...</td>\n",
       "      <td>...</td>\n",
       "    </tr>\n",
       "    <tr>\n",
       "      <th>901</th>\n",
       "      <td>(SUB) 박규영 | “촬영 동안 돌아가시게 만든 분들이 너무 많아요” | 사마귀,...</td>\n",
       "      <td>8GS4S-ubOPE</td>\n",
       "      <td>https://www.youtube.com/watch?v=8GS4S-ubOPE</td>\n",
       "      <td>2025-09-24</td>\n",
       "      <td>https://i.ytimg.com/vi/8GS4S-ubOPE/maxresdefau...</td>\n",
       "      <td>211645.0</td>\n",
       "      <td>2211.0</td>\n",
       "      <td>140.0</td>\n",
       "      <td>38:43</td>\n",
       "      <td>2323.0</td>\n",
       "      <td>...</td>\n",
       "      <td>317000.0</td>\n",
       "      <td>['Entertainment']</td>\n",
       "      <td>['내편하자', '찐친', '나래식', '박나래', '나래바', '박나래 유튜브',...</td>\n",
       "      <td>https://www.youtube.com/@나래식</td>\n",
       "      <td>작품에 따라 이미지가 확확 바뀌는\\n천의 얼굴 박규영✨\\n나도 넷플릭스 딸이었는데\\...</td>\n",
       "      <td>NaN</td>\n",
       "      <td>['sub', '박규영', '촬영', '돌아가시게', '만든', '분들이', '너무...</td>\n",
       "      <td>[('mz샷', 0.4166202757043264), ('촬영', 0.3987623...</td>\n",
       "      <td>[('mz샷 차은우', 0.3848), ('영접 청소 루틴', 0.3897), ('...</td>\n",
       "      <td>({ENG}) {NOUN} | “촬영 동안 돌아가시게 만든 분들이 너무 많아요” |...</td>\n",
       "    </tr>\n",
       "    <tr>\n",
       "      <th>902</th>\n",
       "      <td>(SUB) 윤남노 | “감사한 기억 때문에 나오고 싶었어요” | 박나래 미담, 윤남...</td>\n",
       "      <td>fkBJJ8gPSiI</td>\n",
       "      <td>https://www.youtube.com/watch?v=fkBJJ8gPSiI</td>\n",
       "      <td>2025-09-17</td>\n",
       "      <td>https://i.ytimg.com/vi/fkBJJ8gPSiI/maxresdefau...</td>\n",
       "      <td>631572.0</td>\n",
       "      <td>5345.0</td>\n",
       "      <td>200.0</td>\n",
       "      <td>37:02</td>\n",
       "      <td>2222.0</td>\n",
       "      <td>...</td>\n",
       "      <td>317000.0</td>\n",
       "      <td>['Entertainment']</td>\n",
       "      <td>['내편하자', '찐친', '나래식', '박나래', '나래바', '박나래 유튜브',...</td>\n",
       "      <td>https://www.youtube.com/@나래식</td>\n",
       "      <td>털릴대로 털린 나래시피...\\n고오급 레시피 한번 배워보려고 뫼신\\n ‘요리하는 돌...</td>\n",
       "      <td>NaN</td>\n",
       "      <td>['sub', '윤남노', '감사한', '기억', '나오고', '싶었어요', '박나...</td>\n",
       "      <td>[('나래식', 0.7764135045347722), ('sub', 0.516476...</td>\n",
       "      <td>[('먹팁 나래식 ep', 0.5389), ('윤남노 감사한', 0.5424), (...</td>\n",
       "      <td>({ENG}) {NOUN} | “{NOUN} 기억 때문에 나오고 싶었어요” | {N...</td>\n",
       "    </tr>\n",
       "    <tr>\n",
       "      <th>903</th>\n",
       "      <td>(SUB) 송중기X천우희 | 🙋우희: 나 오늘 삐뚤어지고 싶어!! 💁‍♂️중기:난 ...</td>\n",
       "      <td>MANALVR7L7I</td>\n",
       "      <td>https://www.youtube.com/watch?v=MANALVR7L7I</td>\n",
       "      <td>2025-09-10</td>\n",
       "      <td>https://i.ytimg.com/vi_webp/MANALVR7L7I/maxres...</td>\n",
       "      <td>760945.0</td>\n",
       "      <td>4671.0</td>\n",
       "      <td>212.0</td>\n",
       "      <td>38:40</td>\n",
       "      <td>2320.0</td>\n",
       "      <td>...</td>\n",
       "      <td>317000.0</td>\n",
       "      <td>['Entertainment']</td>\n",
       "      <td>['내편하자', '찐친', '나래식', '박나래', '나래바', '박나래 유튜브',...</td>\n",
       "      <td>https://www.youtube.com/@나래식</td>\n",
       "      <td>일탈해 보는 것도 청춘이잖아~😎 \\n전공 분야에 신이난 주인장의 일탈 강의부터\\n모...</td>\n",
       "      <td>NaN</td>\n",
       "      <td>['sub', '송중기x천우희', '우희', '오늘', '삐뚤어지고', '싶어', ...</td>\n",
       "      <td>[('나래식', 0.6191855381405972), ('싶어', 0.6033261...</td>\n",
       "      <td>[('첫사랑썰', 0.4395), ('학사경고 나래식 ep', 0.4518), ('...</td>\n",
       "      <td>({ENG}) {NOUN} | 우희: 나 오늘 삐뚤어지고 싶어!! ♂️중기:난 이미...</td>\n",
       "    </tr>\n",
       "    <tr>\n",
       "      <th>904</th>\n",
       "      <td>(SUB) 베이비복스 | 황소개구리 먹고 대한해협까지 건넌 1세대 걸그룹 | 야만의...</td>\n",
       "      <td>VOLXrIgk6nk</td>\n",
       "      <td>https://www.youtube.com/watch?v=VOLXrIgk6nk</td>\n",
       "      <td>2025-09-03</td>\n",
       "      <td>https://i.ytimg.com/vi/VOLXrIgk6nk/maxresdefau...</td>\n",
       "      <td>626737.0</td>\n",
       "      <td>7087.0</td>\n",
       "      <td>704.0</td>\n",
       "      <td>41:59</td>\n",
       "      <td>2519.0</td>\n",
       "      <td>...</td>\n",
       "      <td>317000.0</td>\n",
       "      <td>['Entertainment']</td>\n",
       "      <td>['내편하자', '찐친', '나래식', '박나래', '나래바', '박나래 유튜브',...</td>\n",
       "      <td>https://www.youtube.com/@나래식</td>\n",
       "      <td>데뷔가 번지점프?!🥶\\n지금은 상상도 못 할 일들 다 겪은\\n원조 쇠맛 테토녀 1세...</td>\n",
       "      <td>NaN</td>\n",
       "      <td>['sub', '베이비복스', '황소개구리', '먹고', '대한해협까지', '건넌'...</td>\n",
       "      <td>[('베이비복스', 0.4429216851843135), ('50', 0.44292...</td>\n",
       "      <td>[('sub 베이비복스', 0.3959), ('1세대 걸그룹', 0.4182), (...</td>\n",
       "      <td>({ENG}) {NOUN} | {NOUN} 먹고 {NOUN}까지 건넌 {NUM} {...</td>\n",
       "    </tr>\n",
       "    <tr>\n",
       "      <th>905</th>\n",
       "      <td>(SUB) 이시언X서인국X태원석 | “동생들한테 더럽게 못하는데 정이 가!” | 나...</td>\n",
       "      <td>y9PGSbc39es</td>\n",
       "      <td>https://www.youtube.com/watch?v=y9PGSbc39es</td>\n",
       "      <td>2025-08-27</td>\n",
       "      <td>https://i.ytimg.com/vi/y9PGSbc39es/maxresdefau...</td>\n",
       "      <td>1030743.0</td>\n",
       "      <td>10257.0</td>\n",
       "      <td>683.0</td>\n",
       "      <td>1:03:03</td>\n",
       "      <td>3783.0</td>\n",
       "      <td>...</td>\n",
       "      <td>317000.0</td>\n",
       "      <td>['Entertainment']</td>\n",
       "      <td>['내편하자', '찐친', '나래식', '박나래', '나래바', '박나래 유튜브',...</td>\n",
       "      <td>https://www.youtube.com/@나래식</td>\n",
       "      <td>섭외왕, 💎다이아몬드💎 이시언 오빠와\\n그의 애착 동생들 서인국, 태원석!!💕\\n🤦...</td>\n",
       "      <td>NaN</td>\n",
       "      <td>['sub', '이시언x서인국x태원석', '동생들한테', '더럽게', '못하는데',...</td>\n",
       "      <td>[('나래식', 0.7772536360886277), ('노래방', 0.433385...</td>\n",
       "      <td>[('덜덜이 미스터리 박스', 0.5395), ('sub 이시언x서인국x태원석', ...</td>\n",
       "      <td>({ENG}) {NOUN} | “{NOUN} 더럽게 못하는데 정이 가!” | {NO...</td>\n",
       "    </tr>\n",
       "  </tbody>\n",
       "</table>\n",
       "<p>906 rows × 22 columns</p>\n",
       "</div>"
      ],
      "text/plain": [
       "                                                 title     video_id  \\\n",
       "0                           [KIA 타이거즈] 선수별 응원가 제안서.pdf  VzzZ70tWMJ8   \n",
       "1                      [무공해] 험한 것이 나와도 김고은이랑 무조건 공감합니다  _ttuPeDExTo   \n",
       "2                 [무공해] 폭주하는 공감 요정.. 아이브 레이랑 무조건 공감합니다  N5Zk-xH1e0k   \n",
       "3               [ENG SUB] 직역된 가사보고 노래 맞히기 (w.태래 규빈 리키)  -6vOqZs6CFA   \n",
       "4                                          근데 운전은 로이킴이  QxSIqNOMCm4   \n",
       "..                                                 ...          ...   \n",
       "901  (SUB) 박규영 | “촬영 동안 돌아가시게 만든 분들이 너무 많아요” | 사마귀,...  8GS4S-ubOPE   \n",
       "902  (SUB) 윤남노 | “감사한 기억 때문에 나오고 싶었어요” | 박나래 미담, 윤남...  fkBJJ8gPSiI   \n",
       "903  (SUB) 송중기X천우희 | 🙋우희: 나 오늘 삐뚤어지고 싶어!! 💁‍♂️중기:난 ...  MANALVR7L7I   \n",
       "904  (SUB) 베이비복스 | 황소개구리 먹고 대한해협까지 건넌 1세대 걸그룹 | 야만의...  VOLXrIgk6nk   \n",
       "905  (SUB) 이시언X서인국X태원석 | “동생들한테 더럽게 못하는데 정이 가!” | 나...  y9PGSbc39es   \n",
       "\n",
       "                                       video_url published_date  \\\n",
       "0    https://www.youtube.com/watch?v=VzzZ70tWMJ8     2025-09-18   \n",
       "1    https://www.youtube.com/watch?v=_ttuPeDExTo     2025-09-12   \n",
       "2    https://www.youtube.com/watch?v=N5Zk-xH1e0k     2025-09-05   \n",
       "3    https://www.youtube.com/watch?v=-6vOqZs6CFA     2025-09-02   \n",
       "4    https://www.youtube.com/watch?v=QxSIqNOMCm4     2025-08-29   \n",
       "..                                           ...            ...   \n",
       "901  https://www.youtube.com/watch?v=8GS4S-ubOPE     2025-09-24   \n",
       "902  https://www.youtube.com/watch?v=fkBJJ8gPSiI     2025-09-17   \n",
       "903  https://www.youtube.com/watch?v=MANALVR7L7I     2025-09-10   \n",
       "904  https://www.youtube.com/watch?v=VOLXrIgk6nk     2025-09-03   \n",
       "905  https://www.youtube.com/watch?v=y9PGSbc39es     2025-08-27   \n",
       "\n",
       "                                         thumbnail_url  view_count  \\\n",
       "0    https://i.ytimg.com/vi/VzzZ70tWMJ8/maxresdefau...    174862.0   \n",
       "1    https://i.ytimg.com/vi/_ttuPeDExTo/maxresdefau...    758030.0   \n",
       "2    https://i.ytimg.com/vi/N5Zk-xH1e0k/maxresdefau...    677690.0   \n",
       "3    https://i.ytimg.com/vi/-6vOqZs6CFA/maxresdefau...    192365.0   \n",
       "4    https://i.ytimg.com/vi_webp/QxSIqNOMCm4/maxres...    167341.0   \n",
       "..                                                 ...         ...   \n",
       "901  https://i.ytimg.com/vi/8GS4S-ubOPE/maxresdefau...    211645.0   \n",
       "902  https://i.ytimg.com/vi/fkBJJ8gPSiI/maxresdefau...    631572.0   \n",
       "903  https://i.ytimg.com/vi_webp/MANALVR7L7I/maxres...    760945.0   \n",
       "904  https://i.ytimg.com/vi/VOLXrIgk6nk/maxresdefau...    626737.0   \n",
       "905  https://i.ytimg.com/vi/y9PGSbc39es/maxresdefau...   1030743.0   \n",
       "\n",
       "     like_count  comment_count duration_hms  duration_sec  ...  \\\n",
       "0        4022.0          368.0        24:24        1464.0  ...   \n",
       "1       10983.0          535.0        36:18        2178.0  ...   \n",
       "2        9259.0          569.0        35:35        2135.0  ...   \n",
       "3        8331.0          516.0        21:34        1294.0  ...   \n",
       "4        1979.0          201.0        24:17        1457.0  ...   \n",
       "..          ...            ...          ...           ...  ...   \n",
       "901      2211.0          140.0        38:43        2323.0  ...   \n",
       "902      5345.0          200.0        37:02        2222.0  ...   \n",
       "903      4671.0          212.0        38:40        2320.0  ...   \n",
       "904      7087.0          704.0        41:59        2519.0  ...   \n",
       "905     10257.0          683.0      1:03:03        3783.0  ...   \n",
       "\n",
       "    subscriber_count         categories  \\\n",
       "0          1690000.0             Comedy   \n",
       "1          1690000.0             Comedy   \n",
       "2          1690000.0             Comedy   \n",
       "3          1690000.0             Comedy   \n",
       "4          1690000.0             Comedy   \n",
       "..               ...                ...   \n",
       "901         317000.0  ['Entertainment']   \n",
       "902         317000.0  ['Entertainment']   \n",
       "903         317000.0  ['Entertainment']   \n",
       "904         317000.0  ['Entertainment']   \n",
       "905         317000.0  ['Entertainment']   \n",
       "\n",
       "                                                  tags  \\\n",
       "0    ['코미디', '개그', '라이브코미디', 'comedy', 'korea comed...   \n",
       "1    ['코미디', '개그', '라이브코미디', 'comedy', 'korea comed...   \n",
       "2    ['코미디', '개그', '라이브코미디', 'comedy', 'korea comed...   \n",
       "3    ['코미디', '개그', '라이브코미디', 'comedy', 'korea comed...   \n",
       "4    ['코미디', '개그', '라이브코미디', 'comedy', 'korea comed...   \n",
       "..                                                 ...   \n",
       "901  ['내편하자', '찐친', '나래식', '박나래', '나래바', '박나래 유튜브',...   \n",
       "902  ['내편하자', '찐친', '나래식', '박나래', '나래바', '박나래 유튜브',...   \n",
       "903  ['내편하자', '찐친', '나래식', '박나래', '나래바', '박나래 유튜브',...   \n",
       "904  ['내편하자', '찐친', '나래식', '박나래', '나래바', '박나래 유튜브',...   \n",
       "905  ['내편하자', '찐친', '나래식', '박나래', '나래바', '박나래 유튜브',...   \n",
       "\n",
       "                                 uploader_url  \\\n",
       "0    https://www.youtube.com/@KoreanCryingGuy   \n",
       "1    https://www.youtube.com/@KoreanCryingGuy   \n",
       "2    https://www.youtube.com/@KoreanCryingGuy   \n",
       "3    https://www.youtube.com/@KoreanCryingGuy   \n",
       "4    https://www.youtube.com/@KoreanCryingGuy   \n",
       "..                                        ...   \n",
       "901              https://www.youtube.com/@나래식   \n",
       "902              https://www.youtube.com/@나래식   \n",
       "903              https://www.youtube.com/@나래식   \n",
       "904              https://www.youtube.com/@나래식   \n",
       "905              https://www.youtube.com/@나래식   \n",
       "\n",
       "                                           description error  \\\n",
       "0    필라이트 클리어가 12캔에 만원...⁉️\\n야구 1회마다 한 캔씩 마셔도 9회까지 ...   NaN   \n",
       "1    넷플릭스 시리즈 [은중과 상연] 드디어 👉오늘 공개 👈\\n\\n친구란 게... 참,\\...   NaN   \n",
       "2    *사연자들은 모두 일반인입니다. 무분별한 비난은 삭제될 수 있습니다*\\n\\n공감이 ...   NaN   \n",
       "3    📌https://bit.ly/3ULB2X7\\n👉 스픽XT1 코스를 무료 체험으로 딱...   NaN   \n",
       "4    쏘카는 보이는 가격 그대로😶\\n이제 [총 결제 요금] 한 번만 내고 타세요\\n\\n5...   NaN   \n",
       "..                                                 ...   ...   \n",
       "901  작품에 따라 이미지가 확확 바뀌는\\n천의 얼굴 박규영✨\\n나도 넷플릭스 딸이었는데\\...   NaN   \n",
       "902  털릴대로 털린 나래시피...\\n고오급 레시피 한번 배워보려고 뫼신\\n ‘요리하는 돌...   NaN   \n",
       "903  일탈해 보는 것도 청춘이잖아~😎 \\n전공 분야에 신이난 주인장의 일탈 강의부터\\n모...   NaN   \n",
       "904  데뷔가 번지점프?!🥶\\n지금은 상상도 못 할 일들 다 겪은\\n원조 쇠맛 테토녀 1세...   NaN   \n",
       "905  섭외왕, 💎다이아몬드💎 이시언 오빠와\\n그의 애착 동생들 서인국, 태원석!!💕\\n🤦...   NaN   \n",
       "\n",
       "                                                tokens  \\\n",
       "0          ['kia', '타이거즈', '선수별', '응원가', '제안서', 'pdf']   \n",
       "1    ['무공해', '험한', '것이', '나와도', '김고은이랑', '무조건', '공감...   \n",
       "2    ['무공해', '폭주하는', '공감', '요정', '아이브', '레이랑', '무조건...   \n",
       "3    ['sub', '직역된', '가사보고', '노래', '맞히기', '태래', '규빈'...   \n",
       "4                                ['근데', '운전은', '로이킴이']   \n",
       "..                                                 ...   \n",
       "901  ['sub', '박규영', '촬영', '돌아가시게', '만든', '분들이', '너무...   \n",
       "902  ['sub', '윤남노', '감사한', '기억', '나오고', '싶었어요', '박나...   \n",
       "903  ['sub', '송중기x천우희', '우희', '오늘', '삐뚤어지고', '싶어', ...   \n",
       "904  ['sub', '베이비복스', '황소개구리', '먹고', '대한해협까지', '건넌'...   \n",
       "905  ['sub', '이시언x서인국x태원석', '동생들한테', '더럽게', '못하는데',...   \n",
       "\n",
       "                                        tfidf_keywords  \\\n",
       "0    [('타이거즈', 0.4455139079661611), ('선수별', 0.41160...   \n",
       "1    [('무조건', 0.6112563566187994), ('공감합니다', 0.5641...   \n",
       "2    [('폭주하는', 0.5098184696059574), ('아이브', 0.45716...   \n",
       "3    [('맞히기', 0.5838354674286717), ('규빈', 0.5838354...   \n",
       "4                                        [('근데', 1.0)]   \n",
       "..                                                 ...   \n",
       "901  [('mz샷', 0.4166202757043264), ('촬영', 0.3987623...   \n",
       "902  [('나래식', 0.7764135045347722), ('sub', 0.516476...   \n",
       "903  [('나래식', 0.6191855381405972), ('싶어', 0.6033261...   \n",
       "904  [('베이비복스', 0.4429216851843135), ('50', 0.44292...   \n",
       "905  [('나래식', 0.7772536360886277), ('노래방', 0.433385...   \n",
       "\n",
       "                                      keybert_keywords  \\\n",
       "0    [('제안서', 0.2561), ('pdf', 0.3489), ('kia', 0.3...   \n",
       "1    [('것이', 0.2044), ('나와도', 0.2216), ('험한 것이', 0....   \n",
       "2    [('폭주하는', 0.352), ('공감합니다', 0.3571), ('레이랑', 0...   \n",
       "3    [('규빈', 0.3242), ('리키', 0.3534), ('태래', 0.3729...   \n",
       "4    [('근데', 0.3942), ('운전은', 0.5413), ('근데 운전은', 0...   \n",
       "..                                                 ...   \n",
       "901  [('mz샷 차은우', 0.3848), ('영접 청소 루틴', 0.3897), ('...   \n",
       "902  [('먹팁 나래식 ep', 0.5389), ('윤남노 감사한', 0.5424), (...   \n",
       "903  [('첫사랑썰', 0.4395), ('학사경고 나래식 ep', 0.4518), ('...   \n",
       "904  [('sub 베이비복스', 0.3959), ('1세대 걸그룹', 0.4182), (...   \n",
       "905  [('덜덜이 미스터리 박스', 0.5395), ('sub 이시언x서인국x태원석', ...   \n",
       "\n",
       "                                        title_template  \n",
       "0               [{ENG} {NOUN}] {NOUN} 응원가 {NOUN}.{ENG}  \n",
       "1                    [무공해] 험한 것이 나와도 {NOUN}랑 무조건 공감합니다  \n",
       "2           [무공해] {NOUN}는 공감 요정.. {NOUN} 레이랑 무조건 공감합니다  \n",
       "3           [{ENG} {ENG}] {NOUN} 고 노래 맞히기 (w.태래 규빈 리키)  \n",
       "4                                       근데 운전은 {NOUN}이  \n",
       "..                                                 ...  \n",
       "901  ({ENG}) {NOUN} | “촬영 동안 돌아가시게 만든 분들이 너무 많아요” |...  \n",
       "902  ({ENG}) {NOUN} | “{NOUN} 기억 때문에 나오고 싶었어요” | {N...  \n",
       "903  ({ENG}) {NOUN} | 우희: 나 오늘 삐뚤어지고 싶어!! ♂️중기:난 이미...  \n",
       "904  ({ENG}) {NOUN} | {NOUN} 먹고 {NOUN}까지 건넌 {NUM} {...  \n",
       "905  ({ENG}) {NOUN} | “{NOUN} 더럽게 못하는데 정이 가!” | {NO...  \n",
       "\n",
       "[906 rows x 22 columns]"
      ]
     },
     "execution_count": 43,
     "metadata": {},
     "output_type": "execute_result"
    }
   ],
   "source": [
    "import pandas as pd\n",
    "\n",
    "df=pd.read_csv('channel(@KoreanCryingGuy)_title_anal.csv', encoding='utf-8')\n",
    "df"
   ]
  },
  {
   "cell_type": "code",
   "execution_count": 9,
   "id": "471bbcc7-c783-483e-973c-d65eee2b5c99",
   "metadata": {},
   "outputs": [],
   "source": [
    "from openai import OpenAI\n",
    "from getpass import getpass\n",
    "import json"
   ]
  },
  {
   "cell_type": "code",
   "execution_count": 3,
   "id": "4468ddbe-6084-4f43-809e-bdd8b8355e4d",
   "metadata": {},
   "outputs": [
    {
     "name": "stdin",
     "output_type": "stream",
     "text": [
      "OpenAI API Key: ········\n"
     ]
    }
   ],
   "source": [
    "MY_API_KEY=getpass.getpass(\"OpenAI API Key:\")"
   ]
  },
  {
   "cell_type": "code",
   "execution_count": 5,
   "id": "6cff36aa-552f-4894-927f-8f4362c2fa63",
   "metadata": {},
   "outputs": [],
   "source": [
    "client=OpenAI(api_key=MY_API_KEY)"
   ]
  },
  {
   "cell_type": "markdown",
   "id": "4968f516-421b-4166-b87f-351555c3f227",
   "metadata": {},
   "source": [
    "## 프롬프트 출력 (예시)"
   ]
  },
  {
   "cell_type": "code",
   "execution_count": 29,
   "id": "3f0f233e-d104-40cc-bd56-e9969b4a6c56",
   "metadata": {},
   "outputs": [],
   "source": [
    "SYSTEM_PROMPT = \"\"\"\n",
    "You are a Korean YouTube title templater.\n",
    "Goal: Convert an input title into a canonical template string with slot placeholders,\n",
    "and a slots dictionary that maps placeholder names to their surface strings.\n",
    "\n",
    "Rules:\n",
    "- Use ONLY these placeholders: {SERIES}, {PERSON}, {TOPIC}, {SITUATION}, {REACTION}, {EVENT}, {LOC}, {NUM}, {ENG}, {X}.\n",
    "- Map bracket labels like [무공해], (w. 게스트) to {SERIES} or {EVENT}.\n",
    "- Convert numbers (e.g., 2025, 5가지) to {NUM}.\n",
    "- Convert English tokens (e.g., ENG SUB, PDF, VLOG) to {ENG}.\n",
    "- Detect Korean names as {PERSON}.\n",
    "- Locations (서울, 부산, 제주 등)는 {LOC}.\n",
    "- 일반 명사는 핵심 주제일 때만 {TOPIC}.\n",
    "- 감정/반응 단어(예: 공감, 감동, 레전드)는 {REACTION}.\n",
    "- 행동/상황(예: 웃으면 안되는, 맞히기)은 {SITUATION}.\n",
    "- 불필요한 태그는 생략.\n",
    "- 출력은 JSON 형식으로만.\n",
    "\"\"\"\n",
    "\n",
    "def build_user_prompt(title):\n",
    "    return f\"\"\"\n",
    "Title: {title}\n",
    "\n",
    "Return JSON with the following structure:\n",
    "{{\n",
    "  \"template\": \"string (canonical template using placeholders)\",\n",
    "  \"slots\": {{\n",
    "      \"PLACEHOLDER\": \"actual text\"\n",
    "  }},\n",
    "  \"explanation\": \"brief reason why each placeholder was used\"\n",
    "}}\n",
    "\"\"\"\n",
    "\n",
    "# 개별 제목 템플릿 추출 함수\n",
    "def extract_template_one(title: str, max_retries: int = 3, sleep_time: float = 1.5):\n",
    "    \"\"\"하나의 제목에서 템플릿 JSON 추출\"\"\"\n",
    "    for attempt in range(max_retries):\n",
    "        try:\n",
    "            response = client.chat.completions.create(\n",
    "                model=\"gpt-4o-mini\",\n",
    "                messages=[\n",
    "                    {\"role\": \"system\", \"content\": SYSTEM_PROMPT},\n",
    "                    {\"role\": \"user\", \"content\": build_user_prompt(title)}\n",
    "                ],\n",
    "                response_format={\"type\": \"json_object\"}\n",
    "            )\n",
    "\n",
    "            result = json.loads(response.choices[0].message.content)\n",
    "            return {\n",
    "                \"title\": title,\n",
    "                \"template\": result.get(\"template\", \"\"),\n",
    "                \"slots\": result.get(\"slots\", {}),\n",
    "                \"explanation\": result.get(\"explanation\", \"\")\n",
    "            }\n",
    "\n",
    "        except Exception as e:\n",
    "            print(f\"⚠️ Error on attempt {attempt+1} for title: {title[:30]}... → {e}\")\n",
    "            time.sleep(sleep_time)\n",
    "    return {\"title\": title, \"template\": None, \"slots\": None, \"explanation\": None}\n",
    "\n",
    "# 전체 DataFrame 처리\n",
    "def extract_templates_for_df(df, title_col=\"title\", output_json=\"title_templates.json\"):\n",
    "    results = []\n",
    "\n",
    "    for t in tqdm(df[title_col].dropna()):\n",
    "        result = extract_template_one(t)\n",
    "        results.append(result)\n",
    "        time.sleep(0.5)  # rate limit 안전용\n",
    "\n",
    "    # JSON 파일로 저장\n",
    "    with open(output_json, \"w\", encoding=\"utf-8\") as f:\n",
    "        json.dump(results, f, ensure_ascii=False, indent=2)\n",
    "\n",
    "    print(f\"결과가 '{output_json}' 파일에 저장되었습니다.\")\n",
    "    return pd.DataFrame(results)"
   ]
  },
  {
   "cell_type": "code",
   "execution_count": 31,
   "id": "a714e4c0-2067-48d5-a3c7-3183a1e61fe2",
   "metadata": {},
   "outputs": [
    {
     "data": {
      "text/plain": [
       "{'template': '{ENG} {SITUATION} (w.{PERSON})',\n",
       " 'slots': {'ENG': 'ENG SUB',\n",
       "  'SITUATION': '직역된 가사보고 노래 맞히기',\n",
       "  'PERSON': '태래 규빈 리키'},\n",
       " 'explanation': {'ENG': 'English tokens are represented by {ENG}.',\n",
       "  'SITUATION': 'The action/condition of the context is identified as ‘직역된 가사보고 노래 맞히기’ hence it is tagged as {SITUATION}.',\n",
       "  'PERSON': 'Korean names in the title, 태래 규빈 리키, are mapped to {PERSON}.'}}"
      ]
     },
     "execution_count": 31,
     "metadata": {},
     "output_type": "execute_result"
    }
   ],
   "source": [
    "result_df = extract_templates_for_df(df, title_col=\"title\", output_json=\"templates_output.json\")\n",
    "print(result_df.head())"
   ]
  },
  {
   "cell_type": "markdown",
   "id": "1f358b19-7afb-4c3b-b059-96387b8d6fbf",
   "metadata": {},
   "source": [
    "## 프롬프트 출력 (키워드 포함)"
   ]
  },
  {
   "cell_type": "code",
   "execution_count": 59,
   "id": "6abfe7d7-65c7-4494-b558-0b888207b03f",
   "metadata": {},
   "outputs": [],
   "source": [
    "import json\n",
    "import time\n",
    "from tqdm import tqdm\n",
    "import pandas as pd\n",
    "from openai import OpenAI\n",
    "\n",
    "SYSTEM_PROMPT = \"\"\"\n",
    "You are a Korean YouTube title templater and keyword extractor.\n",
    "Your job is to:\n",
    "1. Convert a given Korean YouTube title into a canonical template using placeholders.\n",
    "2. Identify placeholder-slot mappings.\n",
    "3. Extract 3–5 meaningful keywords that capture the core theme or topic of the title.\n",
    "\n",
    "Use ONLY these placeholders:\n",
    "{SERIES}, {PERSON}, {TOPIC}, {SITUATION}, {REACTION}, {EVENT}, {LOC}, {NUM}, {ENG}, {X}.\n",
    "\n",
    "Rules:\n",
    "- Map bracket labels like [무공해], (w. 게스트) to {SERIES} or {EVENT}.\n",
    "- Convert numbers (e.g., 2025, 5가지) → {NUM}.\n",
    "- Convert English tokens (ENG SUB, PDF, VLOG) → {ENG}.\n",
    "- Detect Korean names as {PERSON}.\n",
    "- Locations (서울, 부산, 제주 등) → {LOC}.\n",
    "- Main nouns → {TOPIC}.\n",
    "- Reaction/emotion words (공감, 감동, 레전드) → {REACTION}.\n",
    "- Actions/situations (웃으면 안되는, 맞히기) → {SITUATION}.\n",
    "- Output JSON only, no explanation text.\n",
    "\"\"\"\n",
    "\n",
    "# 사용자 프롬프트 생성\n",
    "def build_user_prompt(title):\n",
    "    return f\"\"\"\n",
    "Title: {title}\n",
    "\n",
    "Return JSON with this structure:\n",
    "{{\n",
    "  \"template\": \"string using placeholders\",\n",
    "  \"slots\": {{\n",
    "    \"PLACEHOLDER\": \"actual text\"\n",
    "  }},\n",
    "  \"keywords\": [\"list\", \"of\", \"3-5\", \"core\", \"keywords\"],\n",
    "  \"explanation\": \"brief rationale (why placeholders & keywords were chosen)\"\n",
    "}}\n",
    "\"\"\"\n",
    "\n",
    "# 개별 제목 템플릿+키워드 추출 함수\n",
    "def extract_template_one(title: str):\n",
    "    try:\n",
    "        response = client.chat.completions.create(\n",
    "            model=\"gpt-4o-mini\",\n",
    "            messages=[\n",
    "                {\"role\": \"system\", \"content\": SYSTEM_PROMPT},\n",
    "                {\"role\": \"user\", \"content\": build_user_prompt(title)}\n",
    "            ],\n",
    "            response_format={\"type\": \"json_object\"}\n",
    "        )\n",
    "        result = json.loads(response.choices[0].message.content)\n",
    "        return {\n",
    "            \"original_title\": title,\n",
    "            \"template\": result.get(\"template\", \"\"),\n",
    "            \"slots\": result.get(\"slots\", {}),\n",
    "            \"keywords\": result.get(\"keywords\", []),\n",
    "            \"explanation\": result.get(\"explanation\", \"\")\n",
    "        }\n",
    "    except Exception as e:\n",
    "        print(f\"Error processing title: {title}\\n{e}\")\n",
    "        return None\n",
    "\n",
    "def process_titles_safe(df, batch_size=50, sleep_sec=1):\n",
    "    all_results = []\n",
    "    last_index = -1\n",
    "\n",
    "    for i, title in enumerate(tqdm(df['title'], desc=\"Processing Titles\")):\n",
    "        result = extract_template_one(title)\n",
    "        if result is not None:\n",
    "            all_results.append({\n",
    "                \"original_title\": title,\n",
    "                \"template\": result.get(\"template\"),\n",
    "                \"slots\": result.get(\"slots\"),\n",
    "                \"keywords\": result.get(\"keywords\"),\n",
    "                \"explanation\": result.get(\"explanation\")\n",
    "            })\n",
    "\n",
    "        last_index = i\n",
    "\n",
    "        # 배치마다 저장\n",
    "        if (i + 1) % batch_size == 0:\n",
    "            batch_results = all_results[-batch_size:]\n",
    "            batch_file = f\"templates_batch_{(i+1)//batch_size}.json\"\n",
    "            with open(batch_file, \"w\", encoding=\"utf-8\") as f:\n",
    "                json.dump(batch_results, f, ensure_ascii=False, indent=2)\n",
    "            tqdm.write(f\"💾 Saved batch {(i+1)//batch_size} -> {batch_file}\")\n",
    "            time.sleep(sleep_sec)\n",
    "\n",
    "    # 마지막 배치 저장\n",
    "    if len(df) % batch_size != 0:\n",
    "        batch_file = f\"templates_batch_{(i//batch_size)+1}.json\"\n",
    "        batch_results = all_results[-(len(df) % batch_size):]\n",
    "        with open(batch_file, \"w\", encoding=\"utf-8\") as f:\n",
    "            json.dump(batch_results, f, ensure_ascii=False, indent=2)\n",
    "        tqdm.write(f\"💾 Saved final batch {(i//batch_size)+1} -> {batch_file}\")\n",
    "\n",
    "    # 전체 저장\n",
    "    final_file = \"title_templates.json\"\n",
    "    with open(final_file, \"w\", encoding=\"utf-8\") as f:\n",
    "        json.dump(all_results, f, ensure_ascii=False, indent=2)\n",
    "    tqdm.write(f\"All results saved -> {final_file}\")\n",
    "    tqdm.write(f\"Total processed: {last_index+1}/{len(df)} titles\")\n",
    "\n",
    "    return pd.DataFrame(all_results)"
   ]
  },
  {
   "cell_type": "code",
   "execution_count": 61,
   "id": "0c256390-7e92-402e-b9b5-d3d47a3d4ec2",
   "metadata": {
    "scrolled": true
   },
   "outputs": [
    {
     "name": "stderr",
     "output_type": "stream",
     "text": [
      "Processing Titles:   5%|███▎                                                          | 49/906 [03:01<53:24,  3.74s/it]"
     ]
    },
    {
     "name": "stdout",
     "output_type": "stream",
     "text": [
      "💾 Saved batch 1 -> templates_batch_1.json\n"
     ]
    },
    {
     "name": "stderr",
     "output_type": "stream",
     "text": [
      "Processing Titles:  11%|██████▌                                                     | 99/906 [06:33<1:03:49,  4.75s/it]"
     ]
    },
    {
     "name": "stdout",
     "output_type": "stream",
     "text": [
      "💾 Saved batch 2 -> templates_batch_2.json\n"
     ]
    },
    {
     "name": "stderr",
     "output_type": "stream",
     "text": [
      "Processing Titles:  16%|██████████                                                   | 149/906 [10:09<55:35,  4.41s/it]"
     ]
    },
    {
     "name": "stdout",
     "output_type": "stream",
     "text": [
      "💾 Saved batch 3 -> templates_batch_3.json\n"
     ]
    },
    {
     "name": "stderr",
     "output_type": "stream",
     "text": [
      "Processing Titles:  22%|█████████████▍                                               | 199/906 [13:34<52:03,  4.42s/it]"
     ]
    },
    {
     "name": "stdout",
     "output_type": "stream",
     "text": [
      "💾 Saved batch 4 -> templates_batch_4.json\n"
     ]
    },
    {
     "name": "stderr",
     "output_type": "stream",
     "text": [
      "Processing Titles:  27%|████████████████▊                                            | 249/906 [17:27<53:59,  4.93s/it]"
     ]
    },
    {
     "name": "stdout",
     "output_type": "stream",
     "text": [
      "💾 Saved batch 5 -> templates_batch_5.json\n"
     ]
    },
    {
     "name": "stderr",
     "output_type": "stream",
     "text": [
      "Processing Titles:  33%|████████████████████▏                                        | 299/906 [21:25<47:47,  4.72s/it]"
     ]
    },
    {
     "name": "stdout",
     "output_type": "stream",
     "text": [
      "💾 Saved batch 6 -> templates_batch_6.json\n"
     ]
    },
    {
     "name": "stderr",
     "output_type": "stream",
     "text": [
      "Processing Titles:  39%|███████████████████████▍                                     | 349/906 [25:12<31:04,  3.35s/it]"
     ]
    },
    {
     "name": "stdout",
     "output_type": "stream",
     "text": [
      "💾 Saved batch 7 -> templates_batch_7.json\n"
     ]
    },
    {
     "name": "stderr",
     "output_type": "stream",
     "text": [
      "Processing Titles:  44%|██████████████████████████▊                                  | 399/906 [28:38<30:56,  3.66s/it]"
     ]
    },
    {
     "name": "stdout",
     "output_type": "stream",
     "text": [
      "💾 Saved batch 8 -> templates_batch_8.json\n"
     ]
    },
    {
     "name": "stderr",
     "output_type": "stream",
     "text": [
      "Processing Titles:  50%|██████████████████████████████▏                              | 449/906 [31:48<29:50,  3.92s/it]"
     ]
    },
    {
     "name": "stdout",
     "output_type": "stream",
     "text": [
      "💾 Saved batch 9 -> templates_batch_9.json\n"
     ]
    },
    {
     "name": "stderr",
     "output_type": "stream",
     "text": [
      "Processing Titles:  55%|█████████████████████████████████▌                           | 499/906 [35:12<25:48,  3.80s/it]"
     ]
    },
    {
     "name": "stdout",
     "output_type": "stream",
     "text": [
      "💾 Saved batch 10 -> templates_batch_10.json\n"
     ]
    },
    {
     "name": "stderr",
     "output_type": "stream",
     "text": [
      "Processing Titles:  61%|████████████████████████████████████▉                        | 549/906 [38:56<27:06,  4.56s/it]"
     ]
    },
    {
     "name": "stdout",
     "output_type": "stream",
     "text": [
      "💾 Saved batch 11 -> templates_batch_11.json\n"
     ]
    },
    {
     "name": "stderr",
     "output_type": "stream",
     "text": [
      "Processing Titles:  66%|████████████████████████████████████████▎                    | 599/906 [42:43<25:19,  4.95s/it]"
     ]
    },
    {
     "name": "stdout",
     "output_type": "stream",
     "text": [
      "💾 Saved batch 12 -> templates_batch_12.json\n"
     ]
    },
    {
     "name": "stderr",
     "output_type": "stream",
     "text": [
      "Processing Titles:  72%|███████████████████████████████████████████▋                 | 649/906 [46:03<18:46,  4.38s/it]"
     ]
    },
    {
     "name": "stdout",
     "output_type": "stream",
     "text": [
      "💾 Saved batch 13 -> templates_batch_13.json\n"
     ]
    },
    {
     "name": "stderr",
     "output_type": "stream",
     "text": [
      "Processing Titles:  77%|███████████████████████████████████████████████              | 699/906 [50:08<14:35,  4.23s/it]"
     ]
    },
    {
     "name": "stdout",
     "output_type": "stream",
     "text": [
      "💾 Saved batch 14 -> templates_batch_14.json\n"
     ]
    },
    {
     "name": "stderr",
     "output_type": "stream",
     "text": [
      "Processing Titles:  83%|██████████████████████████████████████████████████▍          | 749/906 [53:49<12:47,  4.89s/it]"
     ]
    },
    {
     "name": "stdout",
     "output_type": "stream",
     "text": [
      "💾 Saved batch 15 -> templates_batch_15.json\n"
     ]
    },
    {
     "name": "stderr",
     "output_type": "stream",
     "text": [
      "Processing Titles:  88%|█████████████████████████████████████████████████████▊       | 799/906 [57:25<07:44,  4.34s/it]"
     ]
    },
    {
     "name": "stdout",
     "output_type": "stream",
     "text": [
      "💾 Saved batch 16 -> templates_batch_16.json\n"
     ]
    },
    {
     "name": "stderr",
     "output_type": "stream",
     "text": [
      "Processing Titles:  94%|███████████████████████████████████████████████████████▎   | 849/906 [1:00:34<02:57,  3.12s/it]"
     ]
    },
    {
     "name": "stdout",
     "output_type": "stream",
     "text": [
      "💾 Saved batch 17 -> templates_batch_17.json\n"
     ]
    },
    {
     "name": "stderr",
     "output_type": "stream",
     "text": [
      "Processing Titles:  99%|██████████████████████████████████████████████████████████▌| 899/906 [1:04:09<00:39,  5.67s/it]"
     ]
    },
    {
     "name": "stdout",
     "output_type": "stream",
     "text": [
      "💾 Saved batch 18 -> templates_batch_18.json\n"
     ]
    },
    {
     "name": "stderr",
     "output_type": "stream",
     "text": [
      "Processing Titles: 100%|███████████████████████████████████████████████████████████| 906/906 [1:04:45<00:00,  4.29s/it]"
     ]
    },
    {
     "name": "stdout",
     "output_type": "stream",
     "text": [
      "💾 Saved final batch 19 -> templates_batch_19.json\n",
      "All results saved -> templates_with_keywords.json\n",
      "Total processed: 906/906 titles\n"
     ]
    },
    {
     "name": "stderr",
     "output_type": "stream",
     "text": [
      "\n"
     ]
    }
   ],
   "source": [
    "final_df = process_titles_safe(df, batch_size=50, sleep_sec=1)"
   ]
  },
  {
   "cell_type": "code",
   "execution_count": null,
   "id": "bb7a0309-5fd5-4e14-a46e-c75fc0f2ab83",
   "metadata": {},
   "outputs": [],
   "source": []
  }
 ],
 "metadata": {
  "kernelspec": {
   "display_name": "Python 3 (ipykernel)",
   "language": "python",
   "name": "python3"
  },
  "language_info": {
   "codemirror_mode": {
    "name": "ipython",
    "version": 3
   },
   "file_extension": ".py",
   "mimetype": "text/x-python",
   "name": "python",
   "nbconvert_exporter": "python",
   "pygments_lexer": "ipython3",
   "version": "3.11.7"
  }
 },
 "nbformat": 4,
 "nbformat_minor": 5
}
